{
 "cells": [
  {
   "cell_type": "code",
   "execution_count": null,
   "id": "485a5404",
   "metadata": {
    "_cell_guid": "b1076dfc-b9ad-4769-8c92-a6c4dae69d19",
    "_uuid": "8f2839f25d086af736a60e9eeb907d3b93b6e0e5",
    "execution": {
     "iopub.execute_input": "2023-05-26T07:02:31.256624Z",
     "iopub.status.busy": "2023-05-26T07:02:31.256008Z",
     "iopub.status.idle": "2023-05-26T07:02:31.278631Z",
     "shell.execute_reply": "2023-05-26T07:02:31.277649Z"
    },
    "papermill": {
     "duration": 0.040641,
     "end_time": "2023-05-26T07:02:31.281377",
     "exception": false,
     "start_time": "2023-05-26T07:02:31.240736",
     "status": "completed"
    },
    "tags": []
   },
   "outputs": [],
   "source": []
  },
  {
   "cell_type": "code",
   "execution_count": 1,
   "id": "5f189382",
   "metadata": {
    "execution": {
     "iopub.execute_input": "2023-05-26T07:02:31.305845Z",
     "iopub.status.busy": "2023-05-26T07:02:31.304961Z",
     "iopub.status.idle": "2023-05-26T07:02:32.643048Z",
     "shell.execute_reply": "2023-05-26T07:02:32.642163Z"
    },
    "papermill": {
     "duration": 1.353151,
     "end_time": "2023-05-26T07:02:32.645649",
     "exception": false,
     "start_time": "2023-05-26T07:02:31.292498",
     "status": "completed"
    },
    "tags": []
   },
   "outputs": [],
   "source": [
    "import numpy as np\n",
    "import pandas as pd \n",
    "import matplotlib.pyplot as plt \n",
    "import seaborn as sns\n"
   ]
  },
  {
   "cell_type": "code",
   "execution_count": 2,
   "id": "616f4d19",
   "metadata": {
    "execution": {
     "iopub.execute_input": "2023-05-26T07:02:32.669267Z",
     "iopub.status.busy": "2023-05-26T07:02:32.668694Z",
     "iopub.status.idle": "2023-05-26T07:02:32.699047Z",
     "shell.execute_reply": "2023-05-26T07:02:32.697898Z"
    },
    "papermill": {
     "duration": 0.045079,
     "end_time": "2023-05-26T07:02:32.701697",
     "exception": false,
     "start_time": "2023-05-26T07:02:32.656618",
     "status": "completed"
    },
    "tags": []
   },
   "outputs": [],
   "source": [
    "df = pd.read_csv(r\"C:\\Users\\easil\\Downloads\\Breast_cancer_data.csv\")"
   ]
  },
  {
   "cell_type": "code",
   "execution_count": 3,
   "id": "15e1a143",
   "metadata": {
    "execution": {
     "iopub.execute_input": "2023-05-26T07:02:32.725180Z",
     "iopub.status.busy": "2023-05-26T07:02:32.724506Z",
     "iopub.status.idle": "2023-05-26T07:02:32.778413Z",
     "shell.execute_reply": "2023-05-26T07:02:32.777333Z"
    },
    "papermill": {
     "duration": 0.068893,
     "end_time": "2023-05-26T07:02:32.781349",
     "exception": false,
     "start_time": "2023-05-26T07:02:32.712456",
     "status": "completed"
    },
    "tags": []
   },
   "outputs": [
    {
     "data": {
      "text/html": [
       "<div>\n",
       "<style scoped>\n",
       "    .dataframe tbody tr th:only-of-type {\n",
       "        vertical-align: middle;\n",
       "    }\n",
       "\n",
       "    .dataframe tbody tr th {\n",
       "        vertical-align: top;\n",
       "    }\n",
       "\n",
       "    .dataframe thead th {\n",
       "        text-align: right;\n",
       "    }\n",
       "</style>\n",
       "<table border=\"1\" class=\"dataframe\">\n",
       "  <thead>\n",
       "    <tr style=\"text-align: right;\">\n",
       "      <th></th>\n",
       "      <th>mean_radius</th>\n",
       "      <th>mean_texture</th>\n",
       "      <th>mean_perimeter</th>\n",
       "      <th>mean_area</th>\n",
       "      <th>mean_smoothness</th>\n",
       "      <th>diagnosis</th>\n",
       "    </tr>\n",
       "  </thead>\n",
       "  <tbody>\n",
       "    <tr>\n",
       "      <th>0</th>\n",
       "      <td>17.99</td>\n",
       "      <td>10.38</td>\n",
       "      <td>122.80</td>\n",
       "      <td>1001.0</td>\n",
       "      <td>0.11840</td>\n",
       "      <td>0</td>\n",
       "    </tr>\n",
       "    <tr>\n",
       "      <th>1</th>\n",
       "      <td>20.57</td>\n",
       "      <td>17.77</td>\n",
       "      <td>132.90</td>\n",
       "      <td>1326.0</td>\n",
       "      <td>0.08474</td>\n",
       "      <td>0</td>\n",
       "    </tr>\n",
       "    <tr>\n",
       "      <th>2</th>\n",
       "      <td>19.69</td>\n",
       "      <td>21.25</td>\n",
       "      <td>130.00</td>\n",
       "      <td>1203.0</td>\n",
       "      <td>0.10960</td>\n",
       "      <td>0</td>\n",
       "    </tr>\n",
       "    <tr>\n",
       "      <th>3</th>\n",
       "      <td>11.42</td>\n",
       "      <td>20.38</td>\n",
       "      <td>77.58</td>\n",
       "      <td>386.1</td>\n",
       "      <td>0.14250</td>\n",
       "      <td>0</td>\n",
       "    </tr>\n",
       "    <tr>\n",
       "      <th>4</th>\n",
       "      <td>20.29</td>\n",
       "      <td>14.34</td>\n",
       "      <td>135.10</td>\n",
       "      <td>1297.0</td>\n",
       "      <td>0.10030</td>\n",
       "      <td>0</td>\n",
       "    </tr>\n",
       "  </tbody>\n",
       "</table>\n",
       "</div>"
      ],
      "text/plain": [
       "   mean_radius  mean_texture  mean_perimeter  mean_area  mean_smoothness  \\\n",
       "0        17.99         10.38          122.80     1001.0          0.11840   \n",
       "1        20.57         17.77          132.90     1326.0          0.08474   \n",
       "2        19.69         21.25          130.00     1203.0          0.10960   \n",
       "3        11.42         20.38           77.58      386.1          0.14250   \n",
       "4        20.29         14.34          135.10     1297.0          0.10030   \n",
       "\n",
       "   diagnosis  \n",
       "0          0  \n",
       "1          0  \n",
       "2          0  \n",
       "3          0  \n",
       "4          0  "
      ]
     },
     "execution_count": 3,
     "metadata": {},
     "output_type": "execute_result"
    }
   ],
   "source": [
    "df.head()"
   ]
  },
  {
   "cell_type": "code",
   "execution_count": 4,
   "id": "662bb6a8",
   "metadata": {
    "execution": {
     "iopub.execute_input": "2023-05-26T07:02:32.806242Z",
     "iopub.status.busy": "2023-05-26T07:02:32.805454Z",
     "iopub.status.idle": "2023-05-26T07:02:32.828375Z",
     "shell.execute_reply": "2023-05-26T07:02:32.827112Z"
    },
    "papermill": {
     "duration": 0.038122,
     "end_time": "2023-05-26T07:02:32.830817",
     "exception": false,
     "start_time": "2023-05-26T07:02:32.792695",
     "status": "completed"
    },
    "tags": []
   },
   "outputs": [
    {
     "data": {
      "text/plain": [
       "<bound method DataFrame.info of      mean_radius  mean_texture  mean_perimeter  mean_area  mean_smoothness  \\\n",
       "0          17.99         10.38          122.80     1001.0          0.11840   \n",
       "1          20.57         17.77          132.90     1326.0          0.08474   \n",
       "2          19.69         21.25          130.00     1203.0          0.10960   \n",
       "3          11.42         20.38           77.58      386.1          0.14250   \n",
       "4          20.29         14.34          135.10     1297.0          0.10030   \n",
       "..           ...           ...             ...        ...              ...   \n",
       "564        21.56         22.39          142.00     1479.0          0.11100   \n",
       "565        20.13         28.25          131.20     1261.0          0.09780   \n",
       "566        16.60         28.08          108.30      858.1          0.08455   \n",
       "567        20.60         29.33          140.10     1265.0          0.11780   \n",
       "568         7.76         24.54           47.92      181.0          0.05263   \n",
       "\n",
       "     diagnosis  \n",
       "0            0  \n",
       "1            0  \n",
       "2            0  \n",
       "3            0  \n",
       "4            0  \n",
       "..         ...  \n",
       "564          0  \n",
       "565          0  \n",
       "566          0  \n",
       "567          0  \n",
       "568          1  \n",
       "\n",
       "[569 rows x 6 columns]>"
      ]
     },
     "execution_count": 4,
     "metadata": {},
     "output_type": "execute_result"
    }
   ],
   "source": [
    "df.info"
   ]
  },
  {
   "cell_type": "code",
   "execution_count": 5,
   "id": "176396dc",
   "metadata": {
    "execution": {
     "iopub.execute_input": "2023-05-26T07:02:32.856120Z",
     "iopub.status.busy": "2023-05-26T07:02:32.855379Z",
     "iopub.status.idle": "2023-05-26T07:02:32.883384Z",
     "shell.execute_reply": "2023-05-26T07:02:32.882235Z"
    },
    "papermill": {
     "duration": 0.043224,
     "end_time": "2023-05-26T07:02:32.885786",
     "exception": false,
     "start_time": "2023-05-26T07:02:32.842562",
     "status": "completed"
    },
    "tags": []
   },
   "outputs": [
    {
     "name": "stdout",
     "output_type": "stream",
     "text": [
      "<class 'pandas.core.frame.DataFrame'>\n",
      "RangeIndex: 569 entries, 0 to 568\n",
      "Data columns (total 6 columns):\n",
      " #   Column           Non-Null Count  Dtype  \n",
      "---  ------           --------------  -----  \n",
      " 0   mean_radius      569 non-null    float64\n",
      " 1   mean_texture     569 non-null    float64\n",
      " 2   mean_perimeter   569 non-null    float64\n",
      " 3   mean_area        569 non-null    float64\n",
      " 4   mean_smoothness  569 non-null    float64\n",
      " 5   diagnosis        569 non-null    int64  \n",
      "dtypes: float64(5), int64(1)\n",
      "memory usage: 26.8 KB\n"
     ]
    }
   ],
   "source": [
    "df.info()"
   ]
  },
  {
   "cell_type": "code",
   "execution_count": 6,
   "id": "22d2a238",
   "metadata": {
    "execution": {
     "iopub.execute_input": "2023-05-26T07:02:32.911090Z",
     "iopub.status.busy": "2023-05-26T07:02:32.910418Z",
     "iopub.status.idle": "2023-05-26T07:02:33.016534Z",
     "shell.execute_reply": "2023-05-26T07:02:33.015359Z"
    },
    "papermill": {
     "duration": 0.121554,
     "end_time": "2023-05-26T07:02:33.019171",
     "exception": false,
     "start_time": "2023-05-26T07:02:32.897617",
     "status": "completed"
    },
    "tags": []
   },
   "outputs": [
    {
     "data": {
      "text/html": [
       "<div>\n",
       "<style scoped>\n",
       "    .dataframe tbody tr th:only-of-type {\n",
       "        vertical-align: middle;\n",
       "    }\n",
       "\n",
       "    .dataframe tbody tr th {\n",
       "        vertical-align: top;\n",
       "    }\n",
       "\n",
       "    .dataframe thead th {\n",
       "        text-align: right;\n",
       "    }\n",
       "</style>\n",
       "<table border=\"1\" class=\"dataframe\">\n",
       "  <thead>\n",
       "    <tr style=\"text-align: right;\">\n",
       "      <th></th>\n",
       "      <th>mean_radius</th>\n",
       "      <th>mean_texture</th>\n",
       "      <th>mean_perimeter</th>\n",
       "      <th>mean_area</th>\n",
       "      <th>mean_smoothness</th>\n",
       "      <th>diagnosis</th>\n",
       "    </tr>\n",
       "  </thead>\n",
       "  <tbody>\n",
       "    <tr>\n",
       "      <th>count</th>\n",
       "      <td>569.000000</td>\n",
       "      <td>569.000000</td>\n",
       "      <td>569.000000</td>\n",
       "      <td>569.000000</td>\n",
       "      <td>569.000000</td>\n",
       "      <td>569.000000</td>\n",
       "    </tr>\n",
       "    <tr>\n",
       "      <th>mean</th>\n",
       "      <td>14.127292</td>\n",
       "      <td>19.289649</td>\n",
       "      <td>91.969033</td>\n",
       "      <td>654.889104</td>\n",
       "      <td>0.096360</td>\n",
       "      <td>0.627417</td>\n",
       "    </tr>\n",
       "    <tr>\n",
       "      <th>std</th>\n",
       "      <td>3.524049</td>\n",
       "      <td>4.301036</td>\n",
       "      <td>24.298981</td>\n",
       "      <td>351.914129</td>\n",
       "      <td>0.014064</td>\n",
       "      <td>0.483918</td>\n",
       "    </tr>\n",
       "    <tr>\n",
       "      <th>min</th>\n",
       "      <td>6.981000</td>\n",
       "      <td>9.710000</td>\n",
       "      <td>43.790000</td>\n",
       "      <td>143.500000</td>\n",
       "      <td>0.052630</td>\n",
       "      <td>0.000000</td>\n",
       "    </tr>\n",
       "    <tr>\n",
       "      <th>25%</th>\n",
       "      <td>11.700000</td>\n",
       "      <td>16.170000</td>\n",
       "      <td>75.170000</td>\n",
       "      <td>420.300000</td>\n",
       "      <td>0.086370</td>\n",
       "      <td>0.000000</td>\n",
       "    </tr>\n",
       "    <tr>\n",
       "      <th>50%</th>\n",
       "      <td>13.370000</td>\n",
       "      <td>18.840000</td>\n",
       "      <td>86.240000</td>\n",
       "      <td>551.100000</td>\n",
       "      <td>0.095870</td>\n",
       "      <td>1.000000</td>\n",
       "    </tr>\n",
       "    <tr>\n",
       "      <th>75%</th>\n",
       "      <td>15.780000</td>\n",
       "      <td>21.800000</td>\n",
       "      <td>104.100000</td>\n",
       "      <td>782.700000</td>\n",
       "      <td>0.105300</td>\n",
       "      <td>1.000000</td>\n",
       "    </tr>\n",
       "    <tr>\n",
       "      <th>max</th>\n",
       "      <td>28.110000</td>\n",
       "      <td>39.280000</td>\n",
       "      <td>188.500000</td>\n",
       "      <td>2501.000000</td>\n",
       "      <td>0.163400</td>\n",
       "      <td>1.000000</td>\n",
       "    </tr>\n",
       "  </tbody>\n",
       "</table>\n",
       "</div>"
      ],
      "text/plain": [
       "       mean_radius  mean_texture  mean_perimeter    mean_area  \\\n",
       "count   569.000000    569.000000      569.000000   569.000000   \n",
       "mean     14.127292     19.289649       91.969033   654.889104   \n",
       "std       3.524049      4.301036       24.298981   351.914129   \n",
       "min       6.981000      9.710000       43.790000   143.500000   \n",
       "25%      11.700000     16.170000       75.170000   420.300000   \n",
       "50%      13.370000     18.840000       86.240000   551.100000   \n",
       "75%      15.780000     21.800000      104.100000   782.700000   \n",
       "max      28.110000     39.280000      188.500000  2501.000000   \n",
       "\n",
       "       mean_smoothness   diagnosis  \n",
       "count       569.000000  569.000000  \n",
       "mean          0.096360    0.627417  \n",
       "std           0.014064    0.483918  \n",
       "min           0.052630    0.000000  \n",
       "25%           0.086370    0.000000  \n",
       "50%           0.095870    1.000000  \n",
       "75%           0.105300    1.000000  \n",
       "max           0.163400    1.000000  "
      ]
     },
     "execution_count": 6,
     "metadata": {},
     "output_type": "execute_result"
    }
   ],
   "source": [
    "df.describe()"
   ]
  },
  {
   "cell_type": "code",
   "execution_count": 7,
   "id": "5a2144a7",
   "metadata": {
    "execution": {
     "iopub.execute_input": "2023-05-26T07:02:33.045085Z",
     "iopub.status.busy": "2023-05-26T07:02:33.044265Z",
     "iopub.status.idle": "2023-05-26T07:02:33.320208Z",
     "shell.execute_reply": "2023-05-26T07:02:33.319123Z"
    },
    "papermill": {
     "duration": 0.292232,
     "end_time": "2023-05-26T07:02:33.323365",
     "exception": false,
     "start_time": "2023-05-26T07:02:33.031133",
     "status": "completed"
    },
    "tags": []
   },
   "outputs": [],
   "source": [
    "from sklearn.model_selection import train_test_split"
   ]
  },
  {
   "cell_type": "code",
   "execution_count": 8,
   "id": "3687a43a",
   "metadata": {
    "execution": {
     "iopub.execute_input": "2023-05-26T07:02:33.348536Z",
     "iopub.status.busy": "2023-05-26T07:02:33.348179Z",
     "iopub.status.idle": "2023-05-26T07:02:33.447057Z",
     "shell.execute_reply": "2023-05-26T07:02:33.446148Z"
    },
    "papermill": {
     "duration": 0.114433,
     "end_time": "2023-05-26T07:02:33.449755",
     "exception": false,
     "start_time": "2023-05-26T07:02:33.335322",
     "status": "completed"
    },
    "tags": []
   },
   "outputs": [],
   "source": [
    "from sklearn.linear_model import LogisticRegression"
   ]
  },
  {
   "cell_type": "code",
   "execution_count": 9,
   "id": "31b3f771",
   "metadata": {
    "execution": {
     "iopub.execute_input": "2023-05-26T07:02:33.476333Z",
     "iopub.status.busy": "2023-05-26T07:02:33.475933Z",
     "iopub.status.idle": "2023-05-26T07:02:33.481008Z",
     "shell.execute_reply": "2023-05-26T07:02:33.479852Z"
    },
    "papermill": {
     "duration": 0.020959,
     "end_time": "2023-05-26T07:02:33.483347",
     "exception": false,
     "start_time": "2023-05-26T07:02:33.462388",
     "status": "completed"
    },
    "tags": []
   },
   "outputs": [],
   "source": [
    "from sklearn.metrics import accuracy_score"
   ]
  },
  {
   "cell_type": "code",
   "execution_count": 10,
   "id": "3656ccf2",
   "metadata": {
    "execution": {
     "iopub.execute_input": "2023-05-26T07:02:33.509749Z",
     "iopub.status.busy": "2023-05-26T07:02:33.509364Z",
     "iopub.status.idle": "2023-05-26T07:02:33.514348Z",
     "shell.execute_reply": "2023-05-26T07:02:33.513285Z"
    },
    "papermill": {
     "duration": 0.020558,
     "end_time": "2023-05-26T07:02:33.516439",
     "exception": false,
     "start_time": "2023-05-26T07:02:33.495881",
     "status": "completed"
    },
    "tags": []
   },
   "outputs": [],
   "source": [
    "df1 = pd.DataFrame(df,columns = df.columns)"
   ]
  },
  {
   "cell_type": "code",
   "execution_count": 11,
   "id": "e573472d",
   "metadata": {
    "execution": {
     "iopub.execute_input": "2023-05-26T07:02:33.542511Z",
     "iopub.status.busy": "2023-05-26T07:02:33.541920Z",
     "iopub.status.idle": "2023-05-26T07:02:33.580581Z",
     "shell.execute_reply": "2023-05-26T07:02:33.579571Z"
    },
    "papermill": {
     "duration": 0.054301,
     "end_time": "2023-05-26T07:02:33.582836",
     "exception": false,
     "start_time": "2023-05-26T07:02:33.528535",
     "status": "completed"
    },
    "tags": []
   },
   "outputs": [
    {
     "data": {
      "text/html": [
       "<div>\n",
       "<style scoped>\n",
       "    .dataframe tbody tr th:only-of-type {\n",
       "        vertical-align: middle;\n",
       "    }\n",
       "\n",
       "    .dataframe tbody tr th {\n",
       "        vertical-align: top;\n",
       "    }\n",
       "\n",
       "    .dataframe thead th {\n",
       "        text-align: right;\n",
       "    }\n",
       "</style>\n",
       "<table border=\"1\" class=\"dataframe\">\n",
       "  <thead>\n",
       "    <tr style=\"text-align: right;\">\n",
       "      <th></th>\n",
       "      <th>mean_radius</th>\n",
       "      <th>mean_texture</th>\n",
       "      <th>mean_perimeter</th>\n",
       "      <th>mean_area</th>\n",
       "      <th>mean_smoothness</th>\n",
       "      <th>diagnosis</th>\n",
       "    </tr>\n",
       "  </thead>\n",
       "  <tbody>\n",
       "    <tr>\n",
       "      <th>0</th>\n",
       "      <td>17.99</td>\n",
       "      <td>10.38</td>\n",
       "      <td>122.80</td>\n",
       "      <td>1001.0</td>\n",
       "      <td>0.11840</td>\n",
       "      <td>0</td>\n",
       "    </tr>\n",
       "    <tr>\n",
       "      <th>1</th>\n",
       "      <td>20.57</td>\n",
       "      <td>17.77</td>\n",
       "      <td>132.90</td>\n",
       "      <td>1326.0</td>\n",
       "      <td>0.08474</td>\n",
       "      <td>0</td>\n",
       "    </tr>\n",
       "    <tr>\n",
       "      <th>2</th>\n",
       "      <td>19.69</td>\n",
       "      <td>21.25</td>\n",
       "      <td>130.00</td>\n",
       "      <td>1203.0</td>\n",
       "      <td>0.10960</td>\n",
       "      <td>0</td>\n",
       "    </tr>\n",
       "    <tr>\n",
       "      <th>3</th>\n",
       "      <td>11.42</td>\n",
       "      <td>20.38</td>\n",
       "      <td>77.58</td>\n",
       "      <td>386.1</td>\n",
       "      <td>0.14250</td>\n",
       "      <td>0</td>\n",
       "    </tr>\n",
       "    <tr>\n",
       "      <th>4</th>\n",
       "      <td>20.29</td>\n",
       "      <td>14.34</td>\n",
       "      <td>135.10</td>\n",
       "      <td>1297.0</td>\n",
       "      <td>0.10030</td>\n",
       "      <td>0</td>\n",
       "    </tr>\n",
       "    <tr>\n",
       "      <th>...</th>\n",
       "      <td>...</td>\n",
       "      <td>...</td>\n",
       "      <td>...</td>\n",
       "      <td>...</td>\n",
       "      <td>...</td>\n",
       "      <td>...</td>\n",
       "    </tr>\n",
       "    <tr>\n",
       "      <th>564</th>\n",
       "      <td>21.56</td>\n",
       "      <td>22.39</td>\n",
       "      <td>142.00</td>\n",
       "      <td>1479.0</td>\n",
       "      <td>0.11100</td>\n",
       "      <td>0</td>\n",
       "    </tr>\n",
       "    <tr>\n",
       "      <th>565</th>\n",
       "      <td>20.13</td>\n",
       "      <td>28.25</td>\n",
       "      <td>131.20</td>\n",
       "      <td>1261.0</td>\n",
       "      <td>0.09780</td>\n",
       "      <td>0</td>\n",
       "    </tr>\n",
       "    <tr>\n",
       "      <th>566</th>\n",
       "      <td>16.60</td>\n",
       "      <td>28.08</td>\n",
       "      <td>108.30</td>\n",
       "      <td>858.1</td>\n",
       "      <td>0.08455</td>\n",
       "      <td>0</td>\n",
       "    </tr>\n",
       "    <tr>\n",
       "      <th>567</th>\n",
       "      <td>20.60</td>\n",
       "      <td>29.33</td>\n",
       "      <td>140.10</td>\n",
       "      <td>1265.0</td>\n",
       "      <td>0.11780</td>\n",
       "      <td>0</td>\n",
       "    </tr>\n",
       "    <tr>\n",
       "      <th>568</th>\n",
       "      <td>7.76</td>\n",
       "      <td>24.54</td>\n",
       "      <td>47.92</td>\n",
       "      <td>181.0</td>\n",
       "      <td>0.05263</td>\n",
       "      <td>1</td>\n",
       "    </tr>\n",
       "  </tbody>\n",
       "</table>\n",
       "<p>569 rows × 6 columns</p>\n",
       "</div>"
      ],
      "text/plain": [
       "     mean_radius  mean_texture  mean_perimeter  mean_area  mean_smoothness  \\\n",
       "0          17.99         10.38          122.80     1001.0          0.11840   \n",
       "1          20.57         17.77          132.90     1326.0          0.08474   \n",
       "2          19.69         21.25          130.00     1203.0          0.10960   \n",
       "3          11.42         20.38           77.58      386.1          0.14250   \n",
       "4          20.29         14.34          135.10     1297.0          0.10030   \n",
       "..           ...           ...             ...        ...              ...   \n",
       "564        21.56         22.39          142.00     1479.0          0.11100   \n",
       "565        20.13         28.25          131.20     1261.0          0.09780   \n",
       "566        16.60         28.08          108.30      858.1          0.08455   \n",
       "567        20.60         29.33          140.10     1265.0          0.11780   \n",
       "568         7.76         24.54           47.92      181.0          0.05263   \n",
       "\n",
       "     diagnosis  \n",
       "0            0  \n",
       "1            0  \n",
       "2            0  \n",
       "3            0  \n",
       "4            0  \n",
       "..         ...  \n",
       "564          0  \n",
       "565          0  \n",
       "566          0  \n",
       "567          0  \n",
       "568          1  \n",
       "\n",
       "[569 rows x 6 columns]"
      ]
     },
     "execution_count": 11,
     "metadata": {},
     "output_type": "execute_result"
    }
   ],
   "source": [
    "df1"
   ]
  },
  {
   "cell_type": "code",
   "execution_count": null,
   "id": "11ba2605",
   "metadata": {
    "execution": {
     "iopub.execute_input": "2023-05-26T07:02:33.609701Z",
     "iopub.status.busy": "2023-05-26T07:02:33.609274Z",
     "iopub.status.idle": "2023-05-26T07:02:33.613909Z",
     "shell.execute_reply": "2023-05-26T07:02:33.612847Z"
    },
    "papermill": {
     "duration": 0.020709,
     "end_time": "2023-05-26T07:02:33.616280",
     "exception": false,
     "start_time": "2023-05-26T07:02:33.595571",
     "status": "completed"
    },
    "tags": []
   },
   "outputs": [],
   "source": []
  },
  {
   "cell_type": "code",
   "execution_count": 14,
   "id": "c796b186",
   "metadata": {
    "execution": {
     "iopub.execute_input": "2023-05-26T07:02:33.713197Z",
     "iopub.status.busy": "2023-05-26T07:02:33.712359Z",
     "iopub.status.idle": "2023-05-26T07:02:33.749226Z",
     "shell.execute_reply": "2023-05-26T07:02:33.748206Z"
    },
    "papermill": {
     "duration": 0.052833,
     "end_time": "2023-05-26T07:02:33.751348",
     "exception": false,
     "start_time": "2023-05-26T07:02:33.698515",
     "status": "completed"
    },
    "tags": []
   },
   "outputs": [
    {
     "data": {
      "text/html": [
       "<div>\n",
       "<style scoped>\n",
       "    .dataframe tbody tr th:only-of-type {\n",
       "        vertical-align: middle;\n",
       "    }\n",
       "\n",
       "    .dataframe tbody tr th {\n",
       "        vertical-align: top;\n",
       "    }\n",
       "\n",
       "    .dataframe thead th {\n",
       "        text-align: right;\n",
       "    }\n",
       "</style>\n",
       "<table border=\"1\" class=\"dataframe\">\n",
       "  <thead>\n",
       "    <tr style=\"text-align: right;\">\n",
       "      <th></th>\n",
       "      <th>mean_radius</th>\n",
       "      <th>mean_texture</th>\n",
       "      <th>mean_perimeter</th>\n",
       "      <th>mean_area</th>\n",
       "      <th>mean_smoothness</th>\n",
       "      <th>diagnosis</th>\n",
       "    </tr>\n",
       "  </thead>\n",
       "  <tbody>\n",
       "    <tr>\n",
       "      <th>0</th>\n",
       "      <td>17.99</td>\n",
       "      <td>10.38</td>\n",
       "      <td>122.80</td>\n",
       "      <td>1001.0</td>\n",
       "      <td>0.11840</td>\n",
       "      <td>0</td>\n",
       "    </tr>\n",
       "    <tr>\n",
       "      <th>1</th>\n",
       "      <td>20.57</td>\n",
       "      <td>17.77</td>\n",
       "      <td>132.90</td>\n",
       "      <td>1326.0</td>\n",
       "      <td>0.08474</td>\n",
       "      <td>0</td>\n",
       "    </tr>\n",
       "    <tr>\n",
       "      <th>2</th>\n",
       "      <td>19.69</td>\n",
       "      <td>21.25</td>\n",
       "      <td>130.00</td>\n",
       "      <td>1203.0</td>\n",
       "      <td>0.10960</td>\n",
       "      <td>0</td>\n",
       "    </tr>\n",
       "    <tr>\n",
       "      <th>3</th>\n",
       "      <td>11.42</td>\n",
       "      <td>20.38</td>\n",
       "      <td>77.58</td>\n",
       "      <td>386.1</td>\n",
       "      <td>0.14250</td>\n",
       "      <td>0</td>\n",
       "    </tr>\n",
       "    <tr>\n",
       "      <th>4</th>\n",
       "      <td>20.29</td>\n",
       "      <td>14.34</td>\n",
       "      <td>135.10</td>\n",
       "      <td>1297.0</td>\n",
       "      <td>0.10030</td>\n",
       "      <td>0</td>\n",
       "    </tr>\n",
       "    <tr>\n",
       "      <th>...</th>\n",
       "      <td>...</td>\n",
       "      <td>...</td>\n",
       "      <td>...</td>\n",
       "      <td>...</td>\n",
       "      <td>...</td>\n",
       "      <td>...</td>\n",
       "    </tr>\n",
       "    <tr>\n",
       "      <th>564</th>\n",
       "      <td>21.56</td>\n",
       "      <td>22.39</td>\n",
       "      <td>142.00</td>\n",
       "      <td>1479.0</td>\n",
       "      <td>0.11100</td>\n",
       "      <td>0</td>\n",
       "    </tr>\n",
       "    <tr>\n",
       "      <th>565</th>\n",
       "      <td>20.13</td>\n",
       "      <td>28.25</td>\n",
       "      <td>131.20</td>\n",
       "      <td>1261.0</td>\n",
       "      <td>0.09780</td>\n",
       "      <td>0</td>\n",
       "    </tr>\n",
       "    <tr>\n",
       "      <th>566</th>\n",
       "      <td>16.60</td>\n",
       "      <td>28.08</td>\n",
       "      <td>108.30</td>\n",
       "      <td>858.1</td>\n",
       "      <td>0.08455</td>\n",
       "      <td>0</td>\n",
       "    </tr>\n",
       "    <tr>\n",
       "      <th>567</th>\n",
       "      <td>20.60</td>\n",
       "      <td>29.33</td>\n",
       "      <td>140.10</td>\n",
       "      <td>1265.0</td>\n",
       "      <td>0.11780</td>\n",
       "      <td>0</td>\n",
       "    </tr>\n",
       "    <tr>\n",
       "      <th>568</th>\n",
       "      <td>7.76</td>\n",
       "      <td>24.54</td>\n",
       "      <td>47.92</td>\n",
       "      <td>181.0</td>\n",
       "      <td>0.05263</td>\n",
       "      <td>1</td>\n",
       "    </tr>\n",
       "  </tbody>\n",
       "</table>\n",
       "<p>569 rows × 6 columns</p>\n",
       "</div>"
      ],
      "text/plain": [
       "     mean_radius  mean_texture  mean_perimeter  mean_area  mean_smoothness  \\\n",
       "0          17.99         10.38          122.80     1001.0          0.11840   \n",
       "1          20.57         17.77          132.90     1326.0          0.08474   \n",
       "2          19.69         21.25          130.00     1203.0          0.10960   \n",
       "3          11.42         20.38           77.58      386.1          0.14250   \n",
       "4          20.29         14.34          135.10     1297.0          0.10030   \n",
       "..           ...           ...             ...        ...              ...   \n",
       "564        21.56         22.39          142.00     1479.0          0.11100   \n",
       "565        20.13         28.25          131.20     1261.0          0.09780   \n",
       "566        16.60         28.08          108.30      858.1          0.08455   \n",
       "567        20.60         29.33          140.10     1265.0          0.11780   \n",
       "568         7.76         24.54           47.92      181.0          0.05263   \n",
       "\n",
       "     diagnosis  \n",
       "0            0  \n",
       "1            0  \n",
       "2            0  \n",
       "3            0  \n",
       "4            0  \n",
       "..         ...  \n",
       "564          0  \n",
       "565          0  \n",
       "566          0  \n",
       "567          0  \n",
       "568          1  \n",
       "\n",
       "[569 rows x 6 columns]"
      ]
     },
     "execution_count": 14,
     "metadata": {},
     "output_type": "execute_result"
    }
   ],
   "source": [
    "df1"
   ]
  },
  {
   "cell_type": "code",
   "execution_count": 15,
   "id": "2c3953ba",
   "metadata": {
    "execution": {
     "iopub.execute_input": "2023-05-26T07:02:34.194857Z",
     "iopub.status.busy": "2023-05-26T07:02:34.194232Z",
     "iopub.status.idle": "2023-05-26T07:02:34.202273Z",
     "shell.execute_reply": "2023-05-26T07:02:34.201367Z"
    },
    "papermill": {
     "duration": 0.026767,
     "end_time": "2023-05-26T07:02:34.204328",
     "exception": false,
     "start_time": "2023-05-26T07:02:34.177561",
     "status": "completed"
    },
    "tags": []
   },
   "outputs": [
    {
     "data": {
      "text/plain": [
       "1    357\n",
       "0    212\n",
       "Name: diagnosis, dtype: int64"
      ]
     },
     "execution_count": 15,
     "metadata": {},
     "output_type": "execute_result"
    }
   ],
   "source": [
    "#checking how many M and B values\n",
    "df1['diagnosis'].value_counts()"
   ]
  },
  {
   "cell_type": "code",
   "execution_count": null,
   "id": "cb8971d0",
   "metadata": {
    "execution": {
     "iopub.execute_input": "2023-05-26T07:02:34.237433Z",
     "iopub.status.busy": "2023-05-26T07:02:34.236993Z",
     "iopub.status.idle": "2023-05-26T07:02:34.264865Z",
     "shell.execute_reply": "2023-05-26T07:02:34.263948Z"
    },
    "papermill": {
     "duration": 0.046968,
     "end_time": "2023-05-26T07:02:34.267116",
     "exception": false,
     "start_time": "2023-05-26T07:02:34.220148",
     "status": "completed"
    },
    "tags": []
   },
   "outputs": [],
   "source": [
    "df2.groupby('diagnosis').mean()\n",
    "#it gives the description of data wrt to B and M for further analysis \n",
    "#we can see that person in M state have greater mean values than B state \n",
    "#M state is more dangerous than B state "
   ]
  },
  {
   "cell_type": "code",
   "execution_count": 16,
   "id": "149a46b6",
   "metadata": {
    "execution": {
     "iopub.execute_input": "2023-05-26T07:02:34.301138Z",
     "iopub.status.busy": "2023-05-26T07:02:34.300795Z",
     "iopub.status.idle": "2023-05-26T07:02:34.306254Z",
     "shell.execute_reply": "2023-05-26T07:02:34.305328Z"
    },
    "papermill": {
     "duration": 0.02534,
     "end_time": "2023-05-26T07:02:34.308774",
     "exception": false,
     "start_time": "2023-05-26T07:02:34.283434",
     "status": "completed"
    },
    "tags": []
   },
   "outputs": [],
   "source": [
    "X = df1.drop(columns='diagnosis',axis=1)\n",
    "Y = df1['diagnosis']"
   ]
  },
  {
   "cell_type": "code",
   "execution_count": 17,
   "id": "7b8a1e94",
   "metadata": {
    "execution": {
     "iopub.execute_input": "2023-05-26T07:02:34.343995Z",
     "iopub.status.busy": "2023-05-26T07:02:34.343599Z",
     "iopub.status.idle": "2023-05-26T07:02:34.366022Z",
     "shell.execute_reply": "2023-05-26T07:02:34.364662Z"
    },
    "papermill": {
     "duration": 0.042558,
     "end_time": "2023-05-26T07:02:34.368367",
     "exception": false,
     "start_time": "2023-05-26T07:02:34.325809",
     "status": "completed"
    },
    "tags": []
   },
   "outputs": [
    {
     "name": "stdout",
     "output_type": "stream",
     "text": [
      "     mean_radius  mean_texture  mean_perimeter  mean_area  mean_smoothness\n",
      "0          17.99         10.38          122.80     1001.0          0.11840\n",
      "1          20.57         17.77          132.90     1326.0          0.08474\n",
      "2          19.69         21.25          130.00     1203.0          0.10960\n",
      "3          11.42         20.38           77.58      386.1          0.14250\n",
      "4          20.29         14.34          135.10     1297.0          0.10030\n",
      "..           ...           ...             ...        ...              ...\n",
      "564        21.56         22.39          142.00     1479.0          0.11100\n",
      "565        20.13         28.25          131.20     1261.0          0.09780\n",
      "566        16.60         28.08          108.30      858.1          0.08455\n",
      "567        20.60         29.33          140.10     1265.0          0.11780\n",
      "568         7.76         24.54           47.92      181.0          0.05263\n",
      "\n",
      "[569 rows x 5 columns]\n"
     ]
    }
   ],
   "source": [
    "print(X)"
   ]
  },
  {
   "cell_type": "code",
   "execution_count": 18,
   "id": "6966c15e",
   "metadata": {
    "execution": {
     "iopub.execute_input": "2023-05-26T07:02:34.404065Z",
     "iopub.status.busy": "2023-05-26T07:02:34.403700Z",
     "iopub.status.idle": "2023-05-26T07:02:34.410666Z",
     "shell.execute_reply": "2023-05-26T07:02:34.409539Z"
    },
    "papermill": {
     "duration": 0.02766,
     "end_time": "2023-05-26T07:02:34.413263",
     "exception": false,
     "start_time": "2023-05-26T07:02:34.385603",
     "status": "completed"
    },
    "tags": []
   },
   "outputs": [
    {
     "name": "stdout",
     "output_type": "stream",
     "text": [
      "0      0\n",
      "1      0\n",
      "2      0\n",
      "3      0\n",
      "4      0\n",
      "      ..\n",
      "564    0\n",
      "565    0\n",
      "566    0\n",
      "567    0\n",
      "568    1\n",
      "Name: diagnosis, Length: 569, dtype: int64\n"
     ]
    }
   ],
   "source": [
    "print(Y)"
   ]
  },
  {
   "cell_type": "code",
   "execution_count": 19,
   "id": "aedbfa8a",
   "metadata": {
    "execution": {
     "iopub.execute_input": "2023-05-26T07:02:34.447896Z",
     "iopub.status.busy": "2023-05-26T07:02:34.447519Z",
     "iopub.status.idle": "2023-05-26T07:02:34.454763Z",
     "shell.execute_reply": "2023-05-26T07:02:34.453761Z"
    },
    "papermill": {
     "duration": 0.027356,
     "end_time": "2023-05-26T07:02:34.456962",
     "exception": false,
     "start_time": "2023-05-26T07:02:34.429606",
     "status": "completed"
    },
    "tags": []
   },
   "outputs": [],
   "source": [
    "#splitting into training and testing data \n",
    "X_train,X_test,Y_train,Y_test = train_test_split(X,Y,test_size=0.2,random_state=2)"
   ]
  },
  {
   "cell_type": "code",
   "execution_count": 20,
   "id": "8280f147",
   "metadata": {
    "execution": {
     "iopub.execute_input": "2023-05-26T07:02:34.491890Z",
     "iopub.status.busy": "2023-05-26T07:02:34.491536Z",
     "iopub.status.idle": "2023-05-26T07:02:34.497247Z",
     "shell.execute_reply": "2023-05-26T07:02:34.495910Z"
    },
    "papermill": {
     "duration": 0.025846,
     "end_time": "2023-05-26T07:02:34.499416",
     "exception": false,
     "start_time": "2023-05-26T07:02:34.473570",
     "status": "completed"
    },
    "tags": []
   },
   "outputs": [
    {
     "name": "stdout",
     "output_type": "stream",
     "text": [
      "(569, 5) (455, 5) (114, 5)\n"
     ]
    }
   ],
   "source": [
    "print(X.shape,X_train.shape,X_test.shape)"
   ]
  },
  {
   "cell_type": "code",
   "execution_count": 21,
   "id": "35756a24",
   "metadata": {
    "execution": {
     "iopub.execute_input": "2023-05-26T07:02:34.535090Z",
     "iopub.status.busy": "2023-05-26T07:02:34.534706Z",
     "iopub.status.idle": "2023-05-26T07:02:34.539533Z",
     "shell.execute_reply": "2023-05-26T07:02:34.538467Z"
    },
    "papermill": {
     "duration": 0.025052,
     "end_time": "2023-05-26T07:02:34.541791",
     "exception": false,
     "start_time": "2023-05-26T07:02:34.516739",
     "status": "completed"
    },
    "tags": []
   },
   "outputs": [],
   "source": [
    "#training the model\n",
    "model = LogisticRegression()"
   ]
  },
  {
   "cell_type": "code",
   "execution_count": 22,
   "id": "a7536532",
   "metadata": {
    "execution": {
     "iopub.execute_input": "2023-05-26T07:02:34.583422Z",
     "iopub.status.busy": "2023-05-26T07:02:34.582792Z",
     "iopub.status.idle": "2023-05-26T07:02:34.665778Z",
     "shell.execute_reply": "2023-05-26T07:02:34.664081Z"
    },
    "papermill": {
     "duration": 0.111891,
     "end_time": "2023-05-26T07:02:34.670421",
     "exception": false,
     "start_time": "2023-05-26T07:02:34.558530",
     "status": "completed"
    },
    "tags": []
   },
   "outputs": [
    {
     "name": "stderr",
     "output_type": "stream",
     "text": [
      "C:\\Users\\easil\\anaconda3\\lib\\site-packages\\sklearn\\linear_model\\_logistic.py:814: ConvergenceWarning: lbfgs failed to converge (status=1):\n",
      "STOP: TOTAL NO. of ITERATIONS REACHED LIMIT.\n",
      "\n",
      "Increase the number of iterations (max_iter) or scale the data as shown in:\n",
      "    https://scikit-learn.org/stable/modules/preprocessing.html\n",
      "Please also refer to the documentation for alternative solver options:\n",
      "    https://scikit-learn.org/stable/modules/linear_model.html#logistic-regression\n",
      "  n_iter_i = _check_optimize_result(\n"
     ]
    },
    {
     "data": {
      "text/plain": [
       "LogisticRegression()"
      ]
     },
     "execution_count": 22,
     "metadata": {},
     "output_type": "execute_result"
    }
   ],
   "source": [
    "#training the logistic regression model \n",
    "model.fit(X_train,Y_train)"
   ]
  },
  {
   "cell_type": "code",
   "execution_count": 23,
   "id": "5f605230",
   "metadata": {
    "execution": {
     "iopub.execute_input": "2023-05-26T07:02:34.746315Z",
     "iopub.status.busy": "2023-05-26T07:02:34.745662Z",
     "iopub.status.idle": "2023-05-26T07:02:34.764398Z",
     "shell.execute_reply": "2023-05-26T07:02:34.762967Z"
    },
    "papermill": {
     "duration": 0.061534,
     "end_time": "2023-05-26T07:02:34.768720",
     "exception": false,
     "start_time": "2023-05-26T07:02:34.707186",
     "status": "completed"
    },
    "tags": []
   },
   "outputs": [],
   "source": [
    "#Accuracy on training data \n",
    "X_tain_prediction = model.predict(X_train)\n",
    "train_data_accuracy = accuracy_score(Y_train,X_tain_prediction)"
   ]
  },
  {
   "cell_type": "code",
   "execution_count": 24,
   "id": "544c9c46",
   "metadata": {
    "execution": {
     "iopub.execute_input": "2023-05-26T07:02:34.845633Z",
     "iopub.status.busy": "2023-05-26T07:02:34.844965Z",
     "iopub.status.idle": "2023-05-26T07:02:34.853254Z",
     "shell.execute_reply": "2023-05-26T07:02:34.851879Z"
    },
    "papermill": {
     "duration": 0.057057,
     "end_time": "2023-05-26T07:02:34.863014",
     "exception": false,
     "start_time": "2023-05-26T07:02:34.805957",
     "status": "completed"
    },
    "tags": []
   },
   "outputs": [
    {
     "name": "stdout",
     "output_type": "stream",
     "text": [
      "Accuracy on training  91.42857142857143 %\n"
     ]
    }
   ],
   "source": [
    "print('Accuracy on training ',train_data_accuracy*100,'%')"
   ]
  },
  {
   "cell_type": "code",
   "execution_count": 25,
   "id": "440a7494",
   "metadata": {
    "execution": {
     "iopub.execute_input": "2023-05-26T07:02:34.905994Z",
     "iopub.status.busy": "2023-05-26T07:02:34.905486Z",
     "iopub.status.idle": "2023-05-26T07:02:34.914095Z",
     "shell.execute_reply": "2023-05-26T07:02:34.913349Z"
    },
    "papermill": {
     "duration": 0.029133,
     "end_time": "2023-05-26T07:02:34.916203",
     "exception": false,
     "start_time": "2023-05-26T07:02:34.887070",
     "status": "completed"
    },
    "tags": []
   },
   "outputs": [],
   "source": [
    "#accuracy on testing data \n",
    "X_test_prediction = model.predict(X_test)\n",
    "train_data_accuracy = accuracy_score(Y_test,X_test_prediction)"
   ]
  },
  {
   "cell_type": "code",
   "execution_count": 26,
   "id": "13068f9a",
   "metadata": {
    "execution": {
     "iopub.execute_input": "2023-05-26T07:02:34.952691Z",
     "iopub.status.busy": "2023-05-26T07:02:34.952268Z",
     "iopub.status.idle": "2023-05-26T07:02:34.957631Z",
     "shell.execute_reply": "2023-05-26T07:02:34.956577Z"
    },
    "papermill": {
     "duration": 0.02665,
     "end_time": "2023-05-26T07:02:34.960500",
     "exception": false,
     "start_time": "2023-05-26T07:02:34.933850",
     "status": "completed"
    },
    "tags": []
   },
   "outputs": [
    {
     "name": "stdout",
     "output_type": "stream",
     "text": [
      "Accuracy in testing data:  89.47368421052632 %\n"
     ]
    }
   ],
   "source": [
    "print('Accuracy in testing data: ',train_data_accuracy*100,'%')"
   ]
  },
  {
   "cell_type": "code",
   "execution_count": 28,
   "id": "0a823638",
   "metadata": {
    "execution": {
     "iopub.execute_input": "2023-05-26T07:02:34.996607Z",
     "iopub.status.busy": "2023-05-26T07:02:34.996194Z",
     "iopub.status.idle": "2023-05-26T07:02:35.007008Z",
     "shell.execute_reply": "2023-05-26T07:02:35.005853Z"
    },
    "papermill": {
     "duration": 0.031506,
     "end_time": "2023-05-26T07:02:35.009393",
     "exception": false,
     "start_time": "2023-05-26T07:02:34.977887",
     "status": "completed"
    },
    "tags": []
   },
   "outputs": [],
   "source": [
    "import pickle\n",
    "\n",
    "# Assuming your model is stored in the 'model_name' variable\n",
    "file_path = 'breast.pkl'\n",
    "\n",
    "# Save the model as a pickle file\n",
    "with open(file_path, 'wb') as file:\n",
    "    pickle.dump(model, file)"
   ]
  },
  {
   "cell_type": "code",
   "execution_count": 29,
   "id": "d88568ce",
   "metadata": {},
   "outputs": [
    {
     "data": {
      "text/plain": [
       "Index(['mean_radius', 'mean_texture', 'mean_perimeter', 'mean_area',\n",
       "       'mean_smoothness'],\n",
       "      dtype='object')"
      ]
     },
     "execution_count": 29,
     "metadata": {},
     "output_type": "execute_result"
    }
   ],
   "source": [
    "X.columns"
   ]
  },
  {
   "cell_type": "code",
   "execution_count": null,
   "id": "8deb7188",
   "metadata": {},
   "outputs": [],
   "source": []
  },
  {
   "cell_type": "code",
   "execution_count": null,
   "id": "93341ec3",
   "metadata": {},
   "outputs": [],
   "source": []
  }
 ],
 "metadata": {
  "kernelspec": {
   "display_name": "Python 3 (ipykernel)",
   "language": "python",
   "name": "python3"
  },
  "language_info": {
   "codemirror_mode": {
    "name": "ipython",
    "version": 3
   },
   "file_extension": ".py",
   "mimetype": "text/x-python",
   "name": "python",
   "nbconvert_exporter": "python",
   "pygments_lexer": "ipython3",
   "version": "3.9.13"
  },
  "papermill": {
   "default_parameters": {},
   "duration": 17.484821,
   "end_time": "2023-05-26T07:02:35.948714",
   "environment_variables": {},
   "exception": null,
   "input_path": "__notebook__.ipynb",
   "output_path": "__notebook__.ipynb",
   "parameters": {},
   "start_time": "2023-05-26T07:02:18.463893",
   "version": "2.4.0"
  }
 },
 "nbformat": 4,
 "nbformat_minor": 5
}
